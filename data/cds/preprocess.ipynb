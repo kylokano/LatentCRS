{
 "cells": [
  {
   "cell_type": "code",
   "execution_count": 3,
   "metadata": {},
   "outputs": [],
   "source": [
    "import json\n",
    "import pandas as pd\n",
    "from tqdm import tqdm"
   ]
  },
  {
   "cell_type": "code",
   "execution_count": 17,
   "metadata": {},
   "outputs": [
    {
     "name": "stderr",
     "output_type": "stream",
     "text": [
      "4827273it [00:23, 201805.78it/s]                             "
     ]
    },
    {
     "name": "stdout",
     "output_type": "stream",
     "text": [
      "1754118\n",
      "701706\n"
     ]
    },
    {
     "name": "stderr",
     "output_type": "stream",
     "text": [
      "\n"
     ]
    }
   ],
   "source": [
    "raw_files = \"CDs_and_Vinyl.jsonl\"\n",
    "meta_files = \"meta_CDs_and_Vinyl.jsonl\"\n",
    "threshold = 4\n",
    "\n",
    "user_ids2items = {}\n",
    "item_id2count = {}\n",
    "\n",
    "for line in tqdm(open(raw_files, \"r\"), total=4800000):\n",
    "    data = json.loads(line)\n",
    "    if data[\"user_id\"] not in user_ids2items:\n",
    "        user_ids2items[data[\"user_id\"]] = []\n",
    "    if data[\"asin\"] not in item_id2count:\n",
    "        item_id2count[data[\"asin\"]] = 0\n",
    "    if data[\"rating\"] >= threshold:\n",
    "        user_ids2items[data[\"user_id\"]].append((data[\"asin\"], data[\"timestamp\"]))\n",
    "        item_id2count[data[\"asin\"]] += 1\n",
    "\n",
    "print(len(user_ids2items))\n",
    "print(len(item_id2count))\n"
   ]
  },
  {
   "cell_type": "code",
   "execution_count": 18,
   "metadata": {},
   "outputs": [
    {
     "name": "stdout",
     "output_type": "stream",
     "text": [
      "len(tmp_user_dict): 125307\n",
      "len(tmp_item_count): 146782\n",
      "len(tmp_user_dict): 107518\n",
      "len(tmp_item_count): 83253\n",
      "len(tmp_user_dict): 105076\n",
      "len(tmp_item_count): 77741\n",
      "len(tmp_user_dict): 104642\n",
      "len(tmp_item_count): 76820\n",
      "len(tmp_user_dict): 104568\n",
      "len(tmp_item_count): 76655\n",
      "len(tmp_user_dict): 104548\n",
      "len(tmp_item_count): 76627\n",
      "len(tmp_user_dict): 104544\n",
      "len(tmp_item_count): 76622\n",
      "len(tmp_user_dict): 104544\n",
      "len(tmp_item_count): 76622\n",
      "len(tmp_user_dict): 104544\n",
      "len(tmp_item_count): 76622\n",
      "len(tmp_user_dict): 104544\n",
      "len(tmp_item_count): 76622\n"
     ]
    }
   ],
   "source": [
    "for i in range(10):\n",
    "    tmp_user_dict = {}\n",
    "    tmp_item_count = {}\n",
    "    over5count_items = set()\n",
    "    for item_id, count in item_id2count.items():\n",
    "        if count >= 5:\n",
    "            over5count_items.add(item_id)\n",
    "\n",
    "    for user_id, items in user_ids2items.items():\n",
    "        tmp_items = []\n",
    "        for item, timestamp in items:\n",
    "            if item in over5count_items:\n",
    "                tmp_items.append((item, timestamp))\n",
    "        if len(tmp_items) >= 5:\n",
    "            tmp_user_dict[user_id] = tmp_items\n",
    "            for item, timestamp in tmp_items:\n",
    "                if item not in tmp_item_count:\n",
    "                    tmp_item_count[item] = 0\n",
    "                tmp_item_count[item] += 1\n",
    "            # over5count_user.add(user_id)\n",
    "    item_id2count = tmp_item_count\n",
    "    user_ids2items = tmp_user_dict\n",
    "    print(\"len(tmp_user_dict):\", len(tmp_user_dict))\n",
    "    print(\"len(tmp_item_count):\", len(tmp_item_count))"
   ]
  },
  {
   "cell_type": "code",
   "execution_count": 32,
   "metadata": {},
   "outputs": [
    {
     "name": "stderr",
     "output_type": "stream",
     "text": [
      "701959it [00:04, 154016.92it/s]                            \n"
     ]
    }
   ],
   "source": [
    "item_havefeatures = set()\n",
    "for line in tqdm(open(meta_files, \"r\"), total=701700):\n",
    "    data = json.loads(line)\n",
    "    if data[\"parent_asin\"] not in item_id2count:\n",
    "        continue\n",
    "    item_havefeatures.add(data[\"parent_asin\"])"
   ]
  },
  {
   "cell_type": "code",
   "execution_count": 34,
   "metadata": {},
   "outputs": [
    {
     "name": "stdout",
     "output_type": "stream",
     "text": [
      "69\n",
      "{'B000F3T7X8', 'B00004WFJ7', 'B000005DSQ', 'B00000I3VF', 'B000005DSR', 'B00005TQ52'}\n"
     ]
    }
   ],
   "source": [
    "userraw_id2model_id, itemraw_id2model_id = {}, {}\n",
    "user_idx, item_idx = 1, 1\n",
    "not_have_feature_items, not_have_feature_count = set(), 0\n",
    "interaction_file = open(\"cds.csv\", 'w', encoding='utf-8')\n",
    "for user_id, items in user_ids2items.items():\n",
    "    if user_id not in userraw_id2model_id:\n",
    "        userraw_id2model_id[user_id] = user_idx\n",
    "        user_idx += 1\n",
    "    tmp_str = str(userraw_id2model_id[user_id]) + \"\\t\"\n",
    "    for item, timestamp in items:\n",
    "        if item not in item_havefeatures:\n",
    "            not_have_feature_items.add(item)\n",
    "            not_have_feature_count += 1\n",
    "            continue\n",
    "        if item not in itemraw_id2model_id:\n",
    "            itemraw_id2model_id[item] = item_idx\n",
    "            item_idx += 1\n",
    "        tmp_str += str(itemraw_id2model_id[item]) + \" \"\n",
    "    tmp_str = tmp_str[:-1] + \"\\n\"\n",
    "    interaction_file.write(tmp_str)\n",
    "interaction_file.close()\n",
    "\n",
    "print(not_have_feature_count)\n",
    "print(not_have_feature_items)\n",
    "with open(\"user_id2model_id.json\", \"w\", encoding=\"utf-8\") as f:\n",
    "    json.dump(userraw_id2model_id, f)\n",
    "with open(\"item_id2model_id.json\", \"w\", encoding=\"utf-8\") as f:\n",
    "    json.dump(itemraw_id2model_id, f)"
   ]
  },
  {
   "cell_type": "code",
   "execution_count": 39,
   "metadata": {},
   "outputs": [
    {
     "name": "stderr",
     "output_type": "stream",
     "text": [
      "701959it [00:04, 161316.36it/s]                            \n"
     ]
    }
   ],
   "source": [
    "# item_id2count\n",
    "feature_keys = [\"title\", \"main_category\", \"categories\",\"description\"]\n",
    "CDsID, rawID, title, main_category, categories, description = [], [], [], [], [], []\n",
    "for line in tqdm(open(meta_files, \"r\"), total=701700):\n",
    "    data = json.loads(line)\n",
    "    if data[\"parent_asin\"] not in item_id2count:\n",
    "        continue\n",
    "    rawID.append(data[\"parent_asin\"])\n",
    "    CDsID.append(itemraw_id2model_id[data[\"parent_asin\"]])\n",
    "    title.append(data[\"title\"])\n",
    "    main_category.append(data[\"main_category\"])\n",
    "    categories.append(\",\".join(data[\"categories\"]))\n",
    "    description.append(data[\"description\"][0] if len(data[\"description\"]) > 0 else \"\")"
   ]
  },
  {
   "cell_type": "code",
   "execution_count": 40,
   "metadata": {},
   "outputs": [],
   "source": [
    "item_featuers = pd.DataFrame({\"CDsID\": CDsID, \"rawID\": rawID, \"title\": title, \"main_category\": main_category, \"categories\": categories, \"description\": description})\n",
    "item_featuers.to_csv(\"CDs_features.csv\", index=False, sep=\"\\t\")"
   ]
  },
  {
   "cell_type": "code",
   "execution_count": null,
   "metadata": {},
   "outputs": [],
   "source": []
  }
 ],
 "metadata": {
  "kernelspec": {
   "display_name": "interrs",
   "language": "python",
   "name": "python3"
  },
  "language_info": {
   "codemirror_mode": {
    "name": "ipython",
    "version": 3
   },
   "file_extension": ".py",
   "mimetype": "text/x-python",
   "name": "python",
   "nbconvert_exporter": "python",
   "pygments_lexer": "ipython3",
   "version": "3.11.10"
  }
 },
 "nbformat": 4,
 "nbformat_minor": 2
}
