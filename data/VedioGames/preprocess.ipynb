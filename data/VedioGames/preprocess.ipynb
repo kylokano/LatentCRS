{
 "cells": [
  {
   "cell_type": "code",
   "execution_count": 1,
   "metadata": {},
   "outputs": [],
   "source": [
    "import json\n",
    "import pandas as pd\n",
    "from tqdm import tqdm"
   ]
  },
  {
   "cell_type": "code",
   "execution_count": 3,
   "metadata": {},
   "outputs": [
    {
     "name": "stderr",
     "output_type": "stream",
     "text": [
      "  0%|          | 0/4800000 [00:00<?, ?it/s]"
     ]
    },
    {
     "name": "stderr",
     "output_type": "stream",
     "text": [
      " 96%|█████████▋| 4624615/4800000 [00:24<00:00, 189871.99it/s]"
     ]
    },
    {
     "name": "stdout",
     "output_type": "stream",
     "text": [
      "2766656\n",
      "167645\n"
     ]
    },
    {
     "name": "stderr",
     "output_type": "stream",
     "text": [
      "\n"
     ]
    }
   ],
   "source": [
    "raw_files = \"Video_Games.jsonl\"\n",
    "meta_files = \"meta_Video_Games.jsonl\"\n",
    "threshold = 4\n",
    "\n",
    "user_ids2items = {}\n",
    "item_id2count = {}\n",
    "\n",
    "for line in tqdm(open(raw_files, \"r\"), total=4600000):\n",
    "    data = json.loads(line)\n",
    "    if data[\"user_id\"] not in user_ids2items:\n",
    "        user_ids2items[data[\"user_id\"]] = []\n",
    "    if data[\"asin\"] not in item_id2count:\n",
    "        item_id2count[data[\"asin\"]] = 0\n",
    "    if data[\"rating\"] >= threshold:\n",
    "        user_ids2items[data[\"user_id\"]].append((data[\"asin\"], data[\"timestamp\"]))\n",
    "        item_id2count[data[\"asin\"]] += 1\n",
    "\n",
    "print(len(user_ids2items))\n",
    "print(len(item_id2count))\n"
   ]
  },
  {
   "cell_type": "code",
   "execution_count": null,
   "metadata": {},
   "outputs": [],
   "source": [
    "have_feature_items = set()\n",
    "with open(meta_files, \"r\", encoding=\"utf-8\") as f:\n",
    "    for line in f:\n",
    "        data = json.loads(line)\n",
    "        if \"asin\" in data:\n",
    "            have_feature_items.add(data[\"asin\"])\n",
    "        if \"parent_asin\" in data:\n",
    "            have_feature_items.add(data[\"parent_asin\"])\n",
    "print(len(have_feature_items))"
   ]
  },
  {
   "cell_type": "code",
   "execution_count": 11,
   "metadata": {},
   "outputs": [
    {
     "name": "stdout",
     "output_type": "stream",
     "text": [
      "len(tmp_user_dict): 19978\n",
      "len(tmp_item_count): 12872\n",
      "len(tmp_user_dict): 17042\n",
      "len(tmp_item_count): 8768\n",
      "len(tmp_user_dict): 16243\n",
      "len(tmp_item_count): 7909\n",
      "len(tmp_user_dict): 15943\n",
      "len(tmp_item_count): 7608\n",
      "len(tmp_user_dict): 15768\n",
      "len(tmp_item_count): 7432\n",
      "len(tmp_user_dict): 15658\n",
      "len(tmp_item_count): 7322\n",
      "len(tmp_user_dict): 15618\n",
      "len(tmp_item_count): 7272\n",
      "len(tmp_user_dict): 15600\n",
      "len(tmp_item_count): 7253\n",
      "len(tmp_user_dict): 15593\n",
      "len(tmp_item_count): 7243\n",
      "len(tmp_user_dict): 15582\n",
      "len(tmp_item_count): 7233\n"
     ]
    }
   ],
   "source": [
    "for i in range(10):\n",
    "    tmp_user_dict = {}\n",
    "    tmp_item_count = {}\n",
    "    over5count_items = set()\n",
    "    for item_id, count in item_id2count.items():\n",
    "        if count >= 5 and item_id in have_feature_items:\n",
    "            over5count_items.add(item_id)\n",
    "\n",
    "    for user_id, items in user_ids2items.items():\n",
    "        tmp_items = []\n",
    "        for item, timestamp in items:\n",
    "            if item in over5count_items:\n",
    "                tmp_items.append((item, timestamp))\n",
    "        if len(tmp_items) >= 5:\n",
    "            tmp_user_dict[user_id] = tmp_items\n",
    "            for item, timestamp in tmp_items:\n",
    "                if item not in tmp_item_count:\n",
    "                    tmp_item_count[item] = 0\n",
    "                tmp_item_count[item] += 1\n",
    "            # over5count_user.add(user_id)\n",
    "    item_id2count = tmp_item_count\n",
    "    user_ids2items = tmp_user_dict\n",
    "    print(\"len(tmp_user_dict):\", len(tmp_user_dict))\n",
    "    print(\"len(tmp_item_count):\", len(tmp_item_count))"
   ]
  },
  {
   "cell_type": "code",
   "execution_count": 5,
   "metadata": {},
   "outputs": [],
   "source": [
    "for k,v in user_ids2items.items():\n",
    "    user_ids2items[k] = sorted(v, key=lambda x:x[1])"
   ]
  },
  {
   "cell_type": "code",
   "execution_count": 12,
   "metadata": {},
   "outputs": [
    {
     "name": "stderr",
     "output_type": "stream",
     "text": [
      "100%|██████████| 137269/137269 [00:01<00:00, 83592.92it/s]\n"
     ]
    }
   ],
   "source": [
    "item_havefeatures = set()\n",
    "for line in tqdm(open(meta_files, \"r\"), total=137269):\n",
    "    data = json.loads(line)\n",
    "    if \"asin\" in data:\n",
    "        print(data[\"asin\"])\n",
    "    if data[\"parent_asin\"] not in item_id2count:\n",
    "        continue\n",
    "    item_havefeatures.add(data[\"parent_asin\"])"
   ]
  },
  {
   "cell_type": "code",
   "execution_count": 13,
   "metadata": {},
   "outputs": [
    {
     "name": "stdout",
     "output_type": "stream",
     "text": [
      "0\n",
      "set()\n",
      "0\n"
     ]
    }
   ],
   "source": [
    "userraw_id2model_id, itemraw_id2model_id = {}, {}\n",
    "user_idx, item_idx = 1, 1\n",
    "not_have_feature_items, not_have_feature_count = set(), 0\n",
    "interaction_file = open(\"VedioGames.csv\", 'w', encoding='utf-8')\n",
    "for user_id, items in user_ids2items.items():\n",
    "    if user_id not in userraw_id2model_id:\n",
    "        userraw_id2model_id[user_id] = user_idx\n",
    "        user_idx += 1\n",
    "    tmp_str = str(userraw_id2model_id[user_id]) + \"\\t\"\n",
    "    for item, timestamp in items:\n",
    "        if item not in item_havefeatures:\n",
    "            not_have_feature_items.add(item)\n",
    "            not_have_feature_count += 1\n",
    "            continue\n",
    "        if item not in itemraw_id2model_id:\n",
    "            itemraw_id2model_id[item] = item_idx\n",
    "            item_idx += 1\n",
    "        tmp_str += str(itemraw_id2model_id[item]) + \" \"\n",
    "    tmp_str = tmp_str[:-1] + \"\\n\"\n",
    "    interaction_file.write(tmp_str)\n",
    "interaction_file.close()\n",
    "\n",
    "print(not_have_feature_count)\n",
    "print(not_have_feature_items)\n",
    "print(len(not_have_feature_items))\n",
    "with open(\"user_id2model_id.json\", \"w\", encoding=\"utf-8\") as f:\n",
    "    json.dump(userraw_id2model_id, f)\n",
    "with open(\"item_id2model_id.json\", \"w\", encoding=\"utf-8\") as f:\n",
    "    json.dump(itemraw_id2model_id, f)"
   ]
  },
  {
   "cell_type": "code",
   "execution_count": 18,
   "metadata": {},
   "outputs": [
    {
     "name": "stderr",
     "output_type": "stream",
     "text": [
      "100%|██████████| 137269/137269 [00:01<00:00, 90107.91it/s]\n"
     ]
    }
   ],
   "source": [
    "# item_id2count\n",
    "feature_keys = [\"title\", \"main_category\", \"categories\",\"description\", \"features\"]\n",
    "CDsID, rawID, title, main_category, categories, description, features = [], [], [], [], [], [], []\n",
    "for line in tqdm(open(meta_files, \"r\"), total=137269):\n",
    "    data = json.loads(line)\n",
    "    if data[\"parent_asin\"] not in item_id2count:\n",
    "        continue\n",
    "    rawID.append(data[\"parent_asin\"])\n",
    "    CDsID.append(itemraw_id2model_id[data[\"parent_asin\"]])\n",
    "    title.append(data[\"title\"])\n",
    "    main_category.append(data[\"main_category\"])\n",
    "    categories.append(\",\".join(data[\"categories\"]))\n",
    "    description.append(data[\"description\"][0] if len(data[\"description\"]) > 0 else \"\")\n",
    "    features.append(\",\".join(data[\"features\"]))"
   ]
  },
  {
   "cell_type": "code",
   "execution_count": 19,
   "metadata": {},
   "outputs": [],
   "source": [
    "item_featuers = pd.DataFrame({\"GamesID\": CDsID, \"rawID\": rawID, \"title\": title, \"main_category\": main_category, \"categories\": categories, \"description\": description, \"features\": features})\n",
    "item_featuers.to_csv(\"VedioGames_features.csv\", index=False, sep=\"\\t\")"
   ]
  },
  {
   "cell_type": "code",
   "execution_count": null,
   "metadata": {},
   "outputs": [],
   "source": []
  }
 ],
 "metadata": {
  "kernelspec": {
   "display_name": "interrs",
   "language": "python",
   "name": "python3"
  },
  "language_info": {
   "codemirror_mode": {
    "name": "ipython",
    "version": 3
   },
   "file_extension": ".py",
   "mimetype": "text/x-python",
   "name": "python",
   "nbconvert_exporter": "python",
   "pygments_lexer": "ipython3",
   "version": "3.11.10"
  }
 },
 "nbformat": 4,
 "nbformat_minor": 2
}
